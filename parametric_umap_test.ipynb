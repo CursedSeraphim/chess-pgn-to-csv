{
 "cells": [
  {
   "cell_type": "code",
   "execution_count": 1,
   "metadata": {},
   "outputs": [
    {
     "name": "stdout",
     "output_type": "stream",
     "text": [
      "WARNING:tensorflow:From c:\\Work\\ETH Zurich\\IVIA\\chess-pgn-to-csv\\.venv310\\lib\\site-packages\\keras\\src\\losses.py:2976: The name tf.losses.sparse_softmax_cross_entropy is deprecated. Please use tf.compat.v1.losses.sparse_softmax_cross_entropy instead.\n",
      "\n",
      "WARNING:tensorflow:From c:\\Work\\ETH Zurich\\IVIA\\chess-pgn-to-csv\\.venv310\\lib\\site-packages\\keras\\src\\backend.py:1398: The name tf.executing_eagerly_outside_functions is deprecated. Please use tf.compat.v1.executing_eagerly_outside_functions instead.\n",
      "\n",
      "Model: \"sequential\"\n",
      "_________________________________________________________________\n",
      " Layer (type)                Output Shape              Param #   \n",
      "=================================================================\n",
      " conv2d (Conv2D)             (None, 14, 14, 32)        320       \n",
      "                                                                 \n",
      " conv2d_1 (Conv2D)           (None, 7, 7, 64)          18496     \n",
      "                                                                 \n",
      " flatten (Flatten)           (None, 3136)              0         \n",
      "                                                                 \n",
      " dense (Dense)               (None, 256)               803072    \n",
      "                                                                 \n",
      " dense_1 (Dense)             (None, 256)               65792     \n",
      "                                                                 \n",
      " dense_2 (Dense)             (None, 2)                 514       \n",
      "                                                                 \n",
      "=================================================================\n",
      "Total params: 888194 (3.39 MB)\n",
      "Trainable params: 888194 (3.39 MB)\n",
      "Non-trainable params: 0 (0.00 Byte)\n",
      "_________________________________________________________________\n"
     ]
    }
   ],
   "source": [
    "# define the network\n",
    "import tensorflow as tf\n",
    "dims = (28, 28, 1)\n",
    "n_components = 2\n",
    "encoder = tf.keras.Sequential([\n",
    "    tf.keras.layers.InputLayer(input_shape=dims),\n",
    "    tf.keras.layers.Conv2D(\n",
    "        filters=32, kernel_size=3, strides=(2, 2), activation=\"relu\", padding=\"same\"\n",
    "    ),\n",
    "    tf.keras.layers.Conv2D(\n",
    "        filters=64, kernel_size=3, strides=(2, 2), activation=\"relu\", padding=\"same\"\n",
    "    ),\n",
    "    tf.keras.layers.Flatten(),\n",
    "    tf.keras.layers.Dense(units=256, activation=\"relu\"),\n",
    "    tf.keras.layers.Dense(units=256, activation=\"relu\"),\n",
    "    tf.keras.layers.Dense(units=n_components),\n",
    "])\n",
    "encoder.summary()"
   ]
  },
  {
   "cell_type": "code",
   "execution_count": 2,
   "metadata": {},
   "outputs": [
    {
     "name": "stdout",
     "output_type": "stream",
     "text": [
      "Train images shape: (100, 28, 28, 1)\n",
      "Test images shape: (100, 28, 28, 1)\n",
      "4/4 [==============================] - 0s 2ms/step\n",
      "4/4 [==============================] - 0s 2ms/step\n"
     ]
    }
   ],
   "source": [
    "from tensorflow.keras.datasets import mnist\n",
    "import numpy as np\n",
    "\n",
    "# Load and preprocess the data correctly for the encoder\n",
    "(train_images, Y_train), (test_images, Y_test) = mnist.load_data()\n",
    "train_images = np.expand_dims(train_images, axis=-1) / 255.  # Normalize and add channel dimension\n",
    "test_images = np.expand_dims(test_images, axis=-1) / 255.\n",
    "\n",
    "# subset for all of them to 100 samples\n",
    "train_images = train_images[:100]\n",
    "test_images = test_images[:100]\n",
    "Y_train = Y_train[:100]\n",
    "Y_test = Y_test[:100]\n",
    "\n",
    "# Verify the shape\n",
    "print(\"Train images shape:\", train_images.shape)\n",
    "print(\"Test images shape:\", test_images.shape)\n",
    "\n",
    "# Generate embeddings using the encoder just to verify the shape\n",
    "train_embeddings = encoder.predict(train_images)\n",
    "test_embeddings = encoder.predict(test_images)"
   ]
  },
  {
   "cell_type": "code",
   "execution_count": 3,
   "metadata": {},
   "outputs": [
    {
     "name": "stdout",
     "output_type": "stream",
     "text": [
      "Shape of train embeddings: (100, 2)\n",
      "Shape of test embeddings: (100, 2)\n"
     ]
    }
   ],
   "source": [
    "#  debug a whole lot of stuff such as shapes to figure out why embedding = embedder.fit_transform(train_images) leads to errors\n",
    "# Print shapes to debug\n",
    "print(\"Shape of train embeddings:\", train_embeddings.shape)\n",
    "print(\"Shape of test embeddings:\", test_embeddings.shape)"
   ]
  },
  {
   "cell_type": "code",
   "execution_count": 6,
   "metadata": {},
   "outputs": [
    {
     "name": "stdout",
     "output_type": "stream",
     "text": [
      "Before fitting, check dims: (28, 28, 1)\n",
      "Embedder expected input shape: (28, 28, 1)\n",
      "Epoch 1/10\n",
      "WARNING:tensorflow:From c:\\Work\\ETH Zurich\\IVIA\\chess-pgn-to-csv\\.venv310\\lib\\site-packages\\keras\\src\\utils\\tf_utils.py:492: The name tf.ragged.RaggedTensorValue is deprecated. Please use tf.compat.v1.ragged.RaggedTensorValue instead.\n",
      "\n",
      "316/316 [==============================] - 5s 13ms/step - loss: 0.3381\n",
      "Epoch 2/10\n",
      "316/316 [==============================] - 4s 14ms/step - loss: 0.3277\n",
      "Epoch 3/10\n",
      "316/316 [==============================] - 4s 13ms/step - loss: 0.3244\n",
      "Epoch 4/10\n",
      "316/316 [==============================] - 4s 13ms/step - loss: 0.3253\n",
      "Epoch 5/10\n",
      "316/316 [==============================] - 4s 13ms/step - loss: 0.3264\n",
      "Epoch 6/10\n",
      "316/316 [==============================] - 4s 13ms/step - loss: 0.3246\n",
      "Epoch 7/10\n",
      "316/316 [==============================] - 4s 13ms/step - loss: 0.3239\n",
      "Epoch 8/10\n",
      "316/316 [==============================] - 4s 14ms/step - loss: 0.3243\n",
      "Epoch 9/10\n",
      "316/316 [==============================] - 4s 13ms/step - loss: 0.3238\n",
      "Epoch 10/10\n",
      "316/316 [==============================] - 4s 13ms/step - loss: 0.3244\n",
      "Embedding shape after fit_transform: (100, 2)\n"
     ]
    }
   ],
   "source": [
    "from umap.parametric_umap import ParametricUMAP\n",
    "import colorama\n",
    "embedder = ParametricUMAP(encoder=encoder, dims=dims)\n",
    "print(\"Before fitting, check dims:\", dims)\n",
    "print(\"Embedder expected input shape:\", embedder.dims)\n",
    "# Attempt to fit and transform\n",
    "try:\n",
    "    embedding = embedder.fit_transform(train_images.reshape((train_images.shape[0], -1)))\n",
    "    print(f\"Embedding shape after fit_transform: {embedding.shape}\")\n",
    "except Exception as e:\n",
    "    print(f\"{colorama.Fore.RED}Error during fit_transform: {e}{colorama.Style.RESET_ALL}\")"
   ]
  },
  {
   "cell_type": "code",
   "execution_count": 10,
   "metadata": {},
   "outputs": [
    {
     "data": {
      "image/png": "[encoded data removed]",
      "text/plain": [
       "<Figure size 640x480 with 1 Axes>"
      ]
     },
     "metadata": {},
     "output_type": "display_data"
    }
   ],
   "source": [
    "import matplotlib.pyplot as plt\n",
    "\n",
    "# Calculate the minimum and maximum values of your embeddings\n",
    "x_min, x_max = embedding[:, 0].min(), embedding[:, 0].max()\n",
    "y_min, y_max = embedding[:, 1].min(), embedding[:, 1].max()\n",
    "\n",
    "fig, ax = plt.subplots()\n",
    "# Optionally, add a little margin\n",
    "margin = 0.1\n",
    "ax.set_xlim(x_min - margin, x_max + margin)\n",
    "ax.set_ylim(y_min - margin, y_max + margin)\n",
    "\n",
    "for i in range(10):\n",
    "    idx = np.where(Y_train == i)[0]  # Get the indices of samples for digit i\n",
    "    for j in idx:  # Loop over these indices directly\n",
    "        ax.text(embedding[j, 0], embedding[j, 1], str(i), ha='center', va='center')\n",
    "\n",
    "plt.show()\n"
   ]
  }
 ],
 "metadata": {
  "kernelspec": {
   "display_name": "Python 3",
   "language": "python",
   "name": "python3"
  },
  "language_info": {
   "codemirror_mode": {
    "name": "ipython",
    "version": 3
   },
   "file_extension": ".py",
   "mimetype": "text/x-python",
   "name": "python",
   "nbconvert_exporter": "python",
   "pygments_lexer": "ipython3",
   "version": "3.10.0"
  }
 },
 "nbformat": 4,
 "nbformat_minor": 2
}
